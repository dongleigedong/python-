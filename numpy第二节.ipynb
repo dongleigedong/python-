{
 "cells": [
  {
   "cell_type": "code",
   "execution_count": 42,
   "metadata": {},
   "outputs": [
    {
     "data": {
      "text/plain": [
       "4.777777777777778"
      ]
     },
     "execution_count": 42,
     "metadata": {},
     "output_type": "execute_result"
    }
   ],
   "source": [
    "#Numpy常用方法\n",
    "import numpy as np\n",
    "\n",
    "a1=np.random.randint(10,size=(3,3))\n",
    "a1\n",
    "a1.min()\n",
    "a1.max()\n",
    "a1.argmin()#值最小的下标值\n",
    "a1.argmax()#值最大的下标值\n",
    "a1.mean()#平均值\n",
    "a1.sort()#排序\n",
    "\n",
    "max(a1[0])#行最大值\n",
    "max(a1[:,0])#列\n",
    "\n",
    "\n",
    "np.unique(a1)#去重\n",
    "\n",
    "sum(a1)#求和\n",
    "sum(a1[0])\n",
    "sum(a1[:,0])\n",
    "\n",
    "np.power(3,a1)#x1的x2次方\n",
    "np.abs(a1)#计算各元素的绝对值\n",
    "np.sin(a1)#计算数组各元素的普通型和双曲型三角函数\n",
    "\n"
   ]
  },
  {
   "cell_type": "code",
   "execution_count": 71,
   "metadata": {},
   "outputs": [
    {
     "name": "stdout",
     "output_type": "stream",
     "text": [
      "[[[ 0  1  2  3]\n",
      "  [ 4  5  6  7]\n",
      "  [ 8  9 10 11]]\n",
      "\n",
      " [[12 13 14 15]\n",
      "  [16 17 18 19]\n",
      "  [20 21 22 23]]]\n"
     ]
    },
    {
     "data": {
      "text/plain": [
       "array([[[ 0, 12],\n",
       "        [ 4, 16],\n",
       "        [ 8, 20]],\n",
       "\n",
       "       [[ 1, 13],\n",
       "        [ 5, 17],\n",
       "        [ 9, 21]],\n",
       "\n",
       "       [[ 2, 14],\n",
       "        [ 6, 18],\n",
       "        [10, 22]],\n",
       "\n",
       "       [[ 3, 15],\n",
       "        [ 7, 19],\n",
       "        [11, 23]]])"
      ]
     },
     "execution_count": 71,
     "metadata": {},
     "output_type": "execute_result"
    }
   ],
   "source": [
    "#numpy 数组转置:可以将m行n列转换为n行m列\n",
    "\"\"\"\n",
    "1：T属性\n",
    "transpose函数\n",
    "\n",
    "\"\"\"\n",
    "#1、一维转置仍未一维\n",
    "a1=np.arange(6)\n",
    "a1.T\n",
    "np.transpose(a1)\n",
    "\n",
    "#2、多维\n",
    "a2=np.arange(24).reshape((2,3,4))\n",
    "a2.T\n",
    "np.transpose(a2)\n",
    "\n",
    "#3、指定转换规则--对于高维数组，进行轴编号进行转置\n",
    "a3=np.arange(24).reshape((2,3,4))\n",
    "print(a3)\n",
    "a3.transpose((0,2,1))\n",
    "\n",
    "a3.swapaxes(0,2)\n",
    "\n",
    "\n"
   ]
  },
  {
   "cell_type": "code",
   "execution_count": 104,
   "metadata": {},
   "outputs": [
    {
     "data": {
      "text/plain": [
       "array([[ 4,  5,  6,  7],\n",
       "       [ 0,  1,  2,  3],\n",
       "       [12, 13, 14, 15],\n",
       "       [ 8,  9, 10, 11]])"
      ]
     },
     "execution_count": 104,
     "metadata": {},
     "output_type": "execute_result"
    }
   ],
   "source": [
    "a3=np.arange(16).reshape(4,4)\n",
    "\n",
    "np.sum(a3)\n",
    "np.sum(a3,axis=0)#按列排序\n",
    "np.sum(a3,axis=1)#按行排序\n",
    "\n",
    "np.random.shuffle(a3)#随机打散\n",
    "# np.sort(a3,axis=0)\n",
    "# np.sort(a3,axis=1)\n",
    "\n",
    "# np.argsort(a3)\n",
    "# np.argsort(a3,axis=0)\n",
    "# np.argsort(a3,axis=1)\n",
    "\n",
    "np.partition(a3,2)\n",
    "# print(a3)\n",
    "# np.argpartition(a3,3,axis=0)\n",
    "# np.argpartition(a3,3,axis=1)"
   ]
  },
  {
   "cell_type": "code",
   "execution_count": null,
   "metadata": {},
   "outputs": [],
   "source": []
  },
  {
   "cell_type": "code",
   "execution_count": null,
   "metadata": {},
   "outputs": [],
   "source": [
    "np.range().16"
   ]
  },
  {
   "cell_type": "code",
   "execution_count": 4,
   "metadata": {},
   "outputs": [
    {
     "name": "stdout",
     "output_type": "stream",
     "text": [
      "[ 0  1  2  3  4  5  6  7  8  9 10 11 12 13 14 15]\n"
     ]
    },
    {
     "data": {
      "text/plain": [
       "False"
      ]
     },
     "execution_count": 4,
     "metadata": {},
     "output_type": "execute_result"
    }
   ],
   "source": [
    "#合并操作\n",
    "import numpy as np\n",
    "x=np.array([1,2,3])\n",
    "y=np.array([3,2,1])\n",
    "np.concatenate([x,y])\n",
    "\n",
    "z=np.array([7,8,9])\n",
    "np.concatenate([x,y,z])\n",
    "\n",
    "x1=np.concatenate([[1,2,3],[11,21,31]])\n",
    "np.concatenate([x1,x1])\n",
    "\n",
    "z\n",
    "z.reshape(1,-1)\n",
    "# np.concatenate([x1,z.reshape(1,-1)])\n",
    "\n",
    "#分割操作\n",
    "x=np.arange(10)\n",
    "a,b,c=np.split(x,[3,7])\n",
    "a\n",
    "b\n",
    "c\n",
    "\n",
    "a1,b1=np.split(x,[5])\n",
    "a1,b1\n",
    "\n",
    "y=np.arange(16).reshape(4,4)\n",
    "c1,d1=np.split(y,[2])\n",
    "c1,d1=np.split(y,[2],axis=1)\n",
    "c1,d1\n",
    "\n",
    "c1,d1=np.vsplit(y,[2])\n",
    "c1,d1=np.hsplit(y,[2])\n",
    "c1,d1\n",
    "\n",
    "c1,d1=np.split(y,[-1])\n",
    "c1,d1\n",
    "\n",
    "#索引\n",
    "a=np.arange(10)\n",
    "a[3]\n",
    "a[3:8]\n",
    "a[3:9:2]\n",
    "\n",
    "b=np.random.randint(20,size=10)\n",
    "# print(b)\n",
    "x=[3,5,7]\n",
    "b[x]\n",
    "\n",
    "c=np.array([[1,2],[4,5]])\n",
    "b[c]\n",
    "\n",
    "d=np.arange(16)\n",
    "d1=d.reshape(4,4)\n",
    "# print(d1)\n",
    "r=np.array([0,1,2])\n",
    "c=np.array([1,2,3])\n",
    "d1[r,c]\n",
    "\n",
    "d1[0,c]\n",
    "d1[:2,c]\n",
    "\n",
    "c1=[True,True,False,True]\n",
    "d1[0:2,c1]\n",
    "\n",
    "\n",
    "\n",
    "#numpy和array 比较\n",
    "a=np.arange(16)\n",
    "print(a)\n",
    "a<6\n",
    "a>5\n",
    "a!=6\n",
    "np.any(a==0)\n",
    "np.any(a>8)\n",
    "np.any(a<0)\n",
    "\n",
    "# np.sum(a<5)\n",
    "# np.all(a<5)\n",
    "# np.sum(a%2==0)\n",
    "# np.sum(a%2==0,axis=0)\n",
    "# np.sum(a%2==0 | (a>12))\n",
    "\n",
    "# a[a<5]\n",
    "\n",
    "# b=np.arange(16).reshape(4,4)\n",
    "# b[:,3]\n",
    "# b[b[:,2]%3==0,:]"
   ]
  },
  {
   "cell_type": "code",
   "execution_count": 5,
   "metadata": {},
   "outputs": [
    {
     "data": {
      "text/plain": [
       "'\\n1、创建一个值从0-15的4*4矩阵\\nt1=np.arange(16).reshape(4,4)\\nt1_mat=np.mat(t1)\\nt1_mat\\n2、从[23,0,5,0,0,78,0,9]找非0元素（np有一个函数，百度）\\na = [0,2,3]\\nb = np.nonzero(a)\\nprint(np.array(b).ndim)ndim数组维度\\nprint(b)\\n\\n\\n\\n\\n3、创建3*4*5的随机数组,并找出最大值最小值\\n\\n4、创建8*8棋盘格矩阵，利用tile\\n\\n5、3*5矩阵与2*3矩阵相乘\\n\\n\\n\\n\\n\\n\\n\\n\\n\\n\\n\\n\\n'"
      ]
     },
     "execution_count": 5,
     "metadata": {},
     "output_type": "execute_result"
    }
   ],
   "source": [
    "\"\"\"\n",
    "1、创建一个值从0-15的4*4矩阵\n",
    "t1=np.arange(16).reshape(4,4)\n",
    "t1_mat=np.mat(t1)\n",
    "t1_mat\n",
    "2、从[23,0,5,0,0,78,0,9]找非0元素（np有一个函数，百度）\n",
    "a = [0,2,3]\n",
    "b = np.nonzero(a)\n",
    "print(np.array(b).ndim)ndim数组维度\n",
    "print(b)\n",
    "\n",
    "\n",
    "\n",
    "\n",
    "3、创建3*4*5的随机数组,并找出最大值最小值\n",
    "\n",
    "4、创建8*8棋盘格矩阵，利用tile\n",
    "\n",
    "5、3*5矩阵与2*3矩阵相乘\n",
    "\n",
    "\n",
    "\n",
    "\n",
    "\n",
    "\n",
    "\n",
    "\n",
    "\n",
    "\n",
    "\n",
    "\n",
    "\"\"\"\n",
    "\n",
    "\n",
    "\n",
    "\n",
    "\n"
   ]
  },
  {
   "cell_type": "code",
   "execution_count": 89,
   "metadata": {},
   "outputs": [
    {
     "name": "stdout",
     "output_type": "stream",
     "text": [
      "[ 3  3  3  5  7  8 15 25 25 26 29 33 33 36 43]\n"
     ]
    },
    {
     "data": {
      "text/plain": [
       "19.6"
      ]
     },
     "execution_count": 89,
     "metadata": {},
     "output_type": "execute_result"
    }
   ],
   "source": [
    "t6=np.random.randint(50,size=15)\n",
    "t6.sort()\n",
    "print(t6)\n",
    "t6.mean()"
   ]
  },
  {
   "cell_type": "code",
   "execution_count": 97,
   "metadata": {},
   "outputs": [
    {
     "data": {
      "text/plain": [
       "29"
      ]
     },
     "execution_count": 97,
     "metadata": {},
     "output_type": "execute_result"
    }
   ],
   "source": [
    "t3=np.random.randint(30,size=60).reshape(3,4,5)\n",
    "print(t3.min())\n",
    "t3.max()\n"
   ]
  },
  {
   "cell_type": "code",
   "execution_count": 103,
   "metadata": {},
   "outputs": [
    {
     "data": {
      "text/plain": [
       "matrix([[ 0,  1,  2,  3],\n",
       "        [ 4,  5,  6,  7],\n",
       "        [ 8,  9, 10, 11],\n",
       "        [12, 13, 14, 15]])"
      ]
     },
     "execution_count": 103,
     "metadata": {},
     "output_type": "execute_result"
    }
   ],
   "source": [
    "t1=np.arange(16).reshape(4,4)\n",
    "t1_mat=np.mat(t1)\n",
    "t1_mat"
   ]
  },
  {
   "cell_type": "code",
   "execution_count": 106,
   "metadata": {},
   "outputs": [
    {
     "name": "stdout",
     "output_type": "stream",
     "text": [
      "33\n"
     ]
    }
   ],
   "source": [
    "t9=np.random.randint(30,size=40).reshape(8,5)\n",
    "print(t9.argmax())\n"
   ]
  },
  {
   "cell_type": "code",
   "execution_count": 111,
   "metadata": {},
   "outputs": [
    {
     "data": {
      "text/plain": [
       "array([1, 1, 1, 1, 1, 2, 2, 2, 2, 2, 3, 3, 3, 3, 3, 4, 4, 4, 4, 5])"
      ]
     },
     "execution_count": 111,
     "metadata": {},
     "output_type": "execute_result"
    }
   ],
   "source": [
    "t11=np.linspace(1,5,num=20)\n",
    "t11//1\n",
    "t11.astype(int)"
   ]
  },
  {
   "cell_type": "code",
   "execution_count": 2,
   "metadata": {},
   "outputs": [
    {
     "data": {
      "text/plain": [
       "matrix([[1, 1, 1, 1, 1],\n",
       "        [2, 2, 2, 2, 2],\n",
       "        [3, 3, 3, 3, 3],\n",
       "        [4, 4, 4, 4, 4],\n",
       "        [5, 5, 5, 5, 5]])"
      ]
     },
     "execution_count": 2,
     "metadata": {},
     "output_type": "execute_result"
    }
   ],
   "source": [
    "import numpy as np\n",
    "b8=np.arange(1,6).reshape(5,1)\n",
    "b88=np.tile(b8,(1,5))\n",
    "b8=np.mat(b88)\n",
    "b8\n",
    "\n",
    "\n"
   ]
  },
  {
   "cell_type": "code",
   "execution_count": 3,
   "metadata": {},
   "outputs": [
    {
     "data": {
      "text/plain": [
       "matrix([[1, 2, 3, 4, 5],\n",
       "        [1, 2, 3, 4, 5],\n",
       "        [1, 2, 3, 4, 5],\n",
       "        [1, 2, 3, 4, 5],\n",
       "        [1, 2, 3, 4, 5]])"
      ]
     },
     "execution_count": 3,
     "metadata": {},
     "output_type": "execute_result"
    }
   ],
   "source": [
    "b7=np.mat([1,2,3,4,5])\n",
    "b7\n",
    "np.tile(b7,(5,1))\n"
   ]
  },
  {
   "cell_type": "code",
   "execution_count": 4,
   "metadata": {},
   "outputs": [
    {
     "name": "stdout",
     "output_type": "stream",
     "text": [
      "[[18 28 27 10 12]\n",
      " [29  4  5 37  3]\n",
      " [27  0 26  8 30]\n",
      " [20 26 30 17  7]\n",
      " [27  8 14 21 36]\n",
      " [14 17 25  2 15]\n",
      " [ 9 15 20 24 31]\n",
      " [25 33 38 12 37]]\n"
     ]
    },
    {
     "data": {
      "text/plain": [
       "array([[18, 28, 27, 10, 12],\n",
       "       [29,  4,  5, 37,  3],\n",
       "       [27,  0, 26,  8, 30],\n",
       "       [20, 26, 30, 17,  7],\n",
       "       [27,  8, 14, 21, 36],\n",
       "       [14, 17, 25,  2, 15],\n",
       "       [ 9, 15, 20, 24, 31],\n",
       "       [25, 33,  5, 12, 37]])"
      ]
     },
     "execution_count": 4,
     "metadata": {},
     "output_type": "execute_result"
    }
   ],
   "source": [
    "b9=np.random.randint(40,size=(8,5))\n",
    "print(b9)\n",
    "num1=np.argmax(b9)//5\n",
    "num2=np.argmax(b9)%5\n",
    "b9[num1,num2]=5\n",
    "b9"
   ]
  },
  {
   "cell_type": "code",
   "execution_count": 5,
   "metadata": {},
   "outputs": [
    {
     "name": "stdout",
     "output_type": "stream",
     "text": [
      "[[ 1]\n",
      " [ 2]\n",
      " [ 3]\n",
      " [ 4]\n",
      " [ 5]\n",
      " [ 6]\n",
      " [ 7]\n",
      " [ 8]\n",
      " [ 9]\n",
      " [10]\n",
      " [11]\n",
      " [12]\n",
      " [13]\n",
      " [14]\n",
      " [15]\n",
      " [16]\n",
      " [17]\n",
      " [18]\n",
      " [19]\n",
      " [20]]\n",
      "[[0. 0. 0.]\n",
      " [0. 0. 0.]\n",
      " [0. 0. 0.]\n",
      " [0. 0. 0.]\n",
      " [0. 0. 0.]\n",
      " [0. 0. 0.]\n",
      " [0. 0. 0.]\n",
      " [0. 0. 0.]\n",
      " [0. 0. 0.]\n",
      " [0. 0. 0.]\n",
      " [0. 0. 0.]\n",
      " [0. 0. 0.]\n",
      " [0. 0. 0.]\n",
      " [0. 0. 0.]\n",
      " [0. 0. 0.]\n",
      " [0. 0. 0.]\n",
      " [0. 0. 0.]\n",
      " [0. 0. 0.]\n",
      " [0. 0. 0.]\n",
      " [0. 0. 0.]]\n",
      "[[ 1.  0.  0.  0.]\n",
      " [ 2.  0.  0.  0.]\n",
      " [ 3.  0.  0.  0.]\n",
      " [ 4.  0.  0.  0.]\n",
      " [ 5.  0.  0.  0.]\n",
      " [ 6.  0.  0.  0.]\n",
      " [ 7.  0.  0.  0.]\n",
      " [ 8.  0.  0.  0.]\n",
      " [ 9.  0.  0.  0.]\n",
      " [10.  0.  0.  0.]\n",
      " [11.  0.  0.  0.]\n",
      " [12.  0.  0.  0.]\n",
      " [13.  0.  0.  0.]\n",
      " [14.  0.  0.  0.]\n",
      " [15.  0.  0.  0.]\n",
      " [16.  0.  0.  0.]\n",
      " [17.  0.  0.  0.]\n",
      " [18.  0.  0.  0.]\n",
      " [19.  0.  0.  0.]\n",
      " [20.  0.  0.  0.]]\n",
      "[[ 1.  0.  0.  0.  2.  0.  0.  0.  3.  0.  0.  0.  4.  0.  0.  0.  5.  0.\n",
      "   0.  0.  6.  0.  0.  0.  7.  0.  0.  0.  8.  0.  0.  0.  9.  0.  0.  0.\n",
      "  10.  0.  0.  0. 11.  0.  0.  0. 12.  0.  0.  0. 13.  0.  0.  0. 14.  0.\n",
      "   0.  0. 15.  0.  0.  0. 16.  0.  0.  0. 17.  0.  0.  0. 18.  0.  0.  0.\n",
      "  19.  0.  0.  0. 20.  0.  0.  0.]]\n"
     ]
    },
    {
     "data": {
      "text/plain": [
       "array([[ 1.,  0.,  0.,  0.,  2.,  0.,  0.,  0.,  3.,  0.,  0.,  0.,  4.,\n",
       "         0.,  0.,  0.,  5.,  0.,  0.,  0.,  6.,  0.,  0.,  0.,  7.,  0.,\n",
       "         0.,  0.,  8.,  0.,  0.,  0.,  9.,  0.,  0.,  0., 10.,  0.,  0.,\n",
       "         0., 11.,  0.,  0.,  0., 12.,  0.,  0.,  0., 13.,  0.,  0.,  0.,\n",
       "        14.,  0.,  0.,  0., 15.,  0.,  0.,  0., 16.,  0.,  0.,  0., 17.,\n",
       "         0.,  0.,  0., 18.,  0.,  0.,  0., 19.,  0.,  0.,  0., 20.]])"
      ]
     },
     "execution_count": 5,
     "metadata": {},
     "output_type": "execute_result"
    }
   ],
   "source": [
    "x=np.mat((np.arange(1,21).reshape(20,1)))\n",
    "print(x)\n",
    "y=np.zeros([20,3])\n",
    "print(y)\n",
    "a=np.hstack((x,y)) \n",
    "print(a)\n",
    "b=np.array(a).reshape(1,80)\n",
    "print(b)\n",
    "b[:,:-3]\n"
   ]
  },
  {
   "cell_type": "code",
   "execution_count": 6,
   "metadata": {},
   "outputs": [
    {
     "data": {
      "text/plain": [
       "array([[1., 0., 0., 0., 0.],\n",
       "       [2., 1., 0., 0., 0.],\n",
       "       [3., 0., 1., 0., 0.],\n",
       "       [4., 0., 0., 1., 0.],\n",
       "       [5., 0., 0., 0., 1.]])"
      ]
     },
     "execution_count": 6,
     "metadata": {},
     "output_type": "execute_result"
    }
   ],
   "source": [
    "b=np.linspace(1,5,num=5,dtype=int)\n",
    "b.transpose\n",
    "c=np.eye(5)\n",
    "c[:,0]=b\n",
    "c\n"
   ]
  },
  {
   "cell_type": "code",
   "execution_count": 14,
   "metadata": {
    "scrolled": true
   },
   "outputs": [
    {
     "name": "stdout",
     "output_type": "stream",
     "text": [
      "[[2 3 4 1 7]\n",
      " [7 4 1 4 6]\n",
      " [6 2 1 6 0]\n",
      " [6 8 5 9 2]\n",
      " [5 0 0 7 4]\n",
      " [8 5 5 4 7]\n",
      " [1 7 0 1 6]\n",
      " [6 3 9 9 3]]\n"
     ]
    },
    {
     "data": {
      "text/plain": [
       "array([[2, 3, 4, 1, 5],\n",
       "       [5, 4, 1, 4, 6],\n",
       "       [6, 2, 1, 6, 0],\n",
       "       [6, 5, 5, 5, 2],\n",
       "       [5, 0, 0, 5, 4],\n",
       "       [5, 5, 5, 4, 7],\n",
       "       [1, 7, 0, 1, 6],\n",
       "       [6, 3, 5, 5, 3]])"
      ]
     },
     "execution_count": 14,
     "metadata": {},
     "output_type": "execute_result"
    }
   ],
   "source": [
    "t9=np.random.randint(10,size=40).reshape(8,5)\n",
    "print(t9)\n",
    "for i in range(len(t9)):\n",
    "    num1=(t9.argmax())//5\n",
    "    num2=(t9.argmax())%5\n",
    "    t9[num1,num2]=5\n",
    "t9"
   ]
  },
  {
   "cell_type": "code",
   "execution_count": 17,
   "metadata": {},
   "outputs": [
    {
     "name": "stdout",
     "output_type": "stream",
     "text": [
      "[1. 1. 1. 1. 1. 2. 2. 2. 2. 2. 3. 3. 3. 3. 3. 4. 4. 4. 4. 5.]\n",
      "[0. 1. 1. 1. 1. 2. 2. 2. 2. 2. 3. 3. 3. 3. 3. 4. 4. 4. 4. 4.]\n",
      "[1 1 1 1 1 2 2 2 2 2 3 3 3 3 3 4 4 4 4 5]\n",
      "[1. 1. 1. 1. 1. 2. 2. 2. 2. 2. 3. 3. 3. 3. 3. 4. 4. 4. 4. 5.]\n"
     ]
    }
   ],
   "source": [
    "b11=np.linspace(1,5,num=20,retstep=False)\n",
    "print(np.floor(b11))\n",
    "print(np.ceil(b11)-1)\n",
    "print(b11.astype(int))\n",
    "print(np.trunc(b11))"
   ]
  },
  {
   "cell_type": "code",
   "execution_count": 19,
   "metadata": {},
   "outputs": [
    {
     "name": "stdout",
     "output_type": "stream",
     "text": [
      "[1 3 3 0]\n",
      "[6 7 8 0]\n"
     ]
    },
    {
     "data": {
      "text/plain": [
       "array([0])"
      ]
     },
     "execution_count": 19,
     "metadata": {},
     "output_type": "execute_result"
    }
   ],
   "source": [
    "x1=np.random.randint(5,size=4)\n",
    "print(x1)\n",
    "x2=np.random.randint(9,size=4)\n",
    "print(x2)\n",
    "np.intersect1d(x1,x2)"
   ]
  },
  {
   "cell_type": "code",
   "execution_count": 21,
   "metadata": {},
   "outputs": [
    {
     "name": "stdout",
     "output_type": "stream",
     "text": [
      "[[5 8 6]\n",
      " [5 2 7]\n",
      " [4 8 6]]\n",
      "[[4 8 6]\n",
      " [5 8 6]\n",
      " [5 2 7]]\n"
     ]
    }
   ],
   "source": [
    "x = np.random.randint(1, 10, (3, 3))\n",
    "print(x)\n",
    "x[:,0].argsort()   \n",
    "x = x[x[:, 0].argsort()]\n",
    "print(x)"
   ]
  },
  {
   "cell_type": "code",
   "execution_count": 22,
   "metadata": {},
   "outputs": [
    {
     "name": "stdout",
     "output_type": "stream",
     "text": [
      "[0 2 1 1 1]\n",
      "1\n"
     ]
    }
   ],
   "source": [
    "x = np.array([2,3,1,1,4])\n",
    "count = np.bincount(x)\n",
    "print(count)\n",
    "common_value = np.argmax(count)\n",
    "print(common_value)\n"
   ]
  },
  {
   "cell_type": "code",
   "execution_count": 48,
   "metadata": {},
   "outputs": [
    {
     "name": "stdout",
     "output_type": "stream",
     "text": [
      "[[3 3 1 1 0 0 2 3 4 3]\n",
      " [0 2 1 3 3 1 1 2 2 4]\n",
      " [2 1 4 4 3 0 3 2 0 4]\n",
      " [2 3 1 3 1 4 1 0 0 0]\n",
      " [1 2 0 0 2 2 2 3 3 0]\n",
      " [3 3 4 4 3 0 2 2 1 1]\n",
      " [0 4 1 4 2 0 0 0 0 3]\n",
      " [2 4 3 2 3 1 3 0 4 4]\n",
      " [1 3 2 4 4 0 4 4 2 1]\n",
      " [4 3 3 4 4 0 3 2 4 0]]\n",
      "[[[[3 3 1]\n",
      "   [0 2 1]\n",
      "   [2 1 4]]\n",
      "\n",
      "  [[3 1 1]\n",
      "   [2 1 3]\n",
      "   [1 4 4]]\n",
      "\n",
      "  [[1 1 0]\n",
      "   [1 3 3]\n",
      "   [4 4 3]]\n",
      "\n",
      "  [[1 0 0]\n",
      "   [3 3 1]\n",
      "   [4 3 0]]\n",
      "\n",
      "  [[0 0 2]\n",
      "   [3 1 1]\n",
      "   [3 0 3]]\n",
      "\n",
      "  [[0 2 3]\n",
      "   [1 1 2]\n",
      "   [0 3 2]]\n",
      "\n",
      "  [[2 3 4]\n",
      "   [1 2 2]\n",
      "   [3 2 0]]\n",
      "\n",
      "  [[3 4 3]\n",
      "   [2 2 4]\n",
      "   [2 0 4]]]\n",
      "\n",
      "\n",
      " [[[0 2 1]\n",
      "   [2 1 4]\n",
      "   [2 3 1]]\n",
      "\n",
      "  [[2 1 3]\n",
      "   [1 4 4]\n",
      "   [3 1 3]]\n",
      "\n",
      "  [[1 3 3]\n",
      "   [4 4 3]\n",
      "   [1 3 1]]\n",
      "\n",
      "  [[3 3 1]\n",
      "   [4 3 0]\n",
      "   [3 1 4]]\n",
      "\n",
      "  [[3 1 1]\n",
      "   [3 0 3]\n",
      "   [1 4 1]]\n",
      "\n",
      "  [[1 1 2]\n",
      "   [0 3 2]\n",
      "   [4 1 0]]\n",
      "\n",
      "  [[1 2 2]\n",
      "   [3 2 0]\n",
      "   [1 0 0]]\n",
      "\n",
      "  [[2 2 4]\n",
      "   [2 0 4]\n",
      "   [0 0 0]]]\n",
      "\n",
      "\n",
      " [[[2 1 4]\n",
      "   [2 3 1]\n",
      "   [1 2 0]]\n",
      "\n",
      "  [[1 4 4]\n",
      "   [3 1 3]\n",
      "   [2 0 0]]\n",
      "\n",
      "  [[4 4 3]\n",
      "   [1 3 1]\n",
      "   [0 0 2]]\n",
      "\n",
      "  [[4 3 0]\n",
      "   [3 1 4]\n",
      "   [0 2 2]]\n",
      "\n",
      "  [[3 0 3]\n",
      "   [1 4 1]\n",
      "   [2 2 2]]\n",
      "\n",
      "  [[0 3 2]\n",
      "   [4 1 0]\n",
      "   [2 2 3]]\n",
      "\n",
      "  [[3 2 0]\n",
      "   [1 0 0]\n",
      "   [2 3 3]]\n",
      "\n",
      "  [[2 0 4]\n",
      "   [0 0 0]\n",
      "   [3 3 0]]]\n",
      "\n",
      "\n",
      " [[[2 3 1]\n",
      "   [1 2 0]\n",
      "   [3 3 4]]\n",
      "\n",
      "  [[3 1 3]\n",
      "   [2 0 0]\n",
      "   [3 4 4]]\n",
      "\n",
      "  [[1 3 1]\n",
      "   [0 0 2]\n",
      "   [4 4 3]]\n",
      "\n",
      "  [[3 1 4]\n",
      "   [0 2 2]\n",
      "   [4 3 0]]\n",
      "\n",
      "  [[1 4 1]\n",
      "   [2 2 2]\n",
      "   [3 0 2]]\n",
      "\n",
      "  [[4 1 0]\n",
      "   [2 2 3]\n",
      "   [0 2 2]]\n",
      "\n",
      "  [[1 0 0]\n",
      "   [2 3 3]\n",
      "   [2 2 1]]\n",
      "\n",
      "  [[0 0 0]\n",
      "   [3 3 0]\n",
      "   [2 1 1]]]\n",
      "\n",
      "\n",
      " [[[1 2 0]\n",
      "   [3 3 4]\n",
      "   [0 4 1]]\n",
      "\n",
      "  [[2 0 0]\n",
      "   [3 4 4]\n",
      "   [4 1 4]]\n",
      "\n",
      "  [[0 0 2]\n",
      "   [4 4 3]\n",
      "   [1 4 2]]\n",
      "\n",
      "  [[0 2 2]\n",
      "   [4 3 0]\n",
      "   [4 2 0]]\n",
      "\n",
      "  [[2 2 2]\n",
      "   [3 0 2]\n",
      "   [2 0 0]]\n",
      "\n",
      "  [[2 2 3]\n",
      "   [0 2 2]\n",
      "   [0 0 0]]\n",
      "\n",
      "  [[2 3 3]\n",
      "   [2 2 1]\n",
      "   [0 0 0]]\n",
      "\n",
      "  [[3 3 0]\n",
      "   [2 1 1]\n",
      "   [0 0 3]]]\n",
      "\n",
      "\n",
      " [[[3 3 4]\n",
      "   [0 4 1]\n",
      "   [2 4 3]]\n",
      "\n",
      "  [[3 4 4]\n",
      "   [4 1 4]\n",
      "   [4 3 2]]\n",
      "\n",
      "  [[4 4 3]\n",
      "   [1 4 2]\n",
      "   [3 2 3]]\n",
      "\n",
      "  [[4 3 0]\n",
      "   [4 2 0]\n",
      "   [2 3 1]]\n",
      "\n",
      "  [[3 0 2]\n",
      "   [2 0 0]\n",
      "   [3 1 3]]\n",
      "\n",
      "  [[0 2 2]\n",
      "   [0 0 0]\n",
      "   [1 3 0]]\n",
      "\n",
      "  [[2 2 1]\n",
      "   [0 0 0]\n",
      "   [3 0 4]]\n",
      "\n",
      "  [[2 1 1]\n",
      "   [0 0 3]\n",
      "   [0 4 4]]]\n",
      "\n",
      "\n",
      " [[[0 4 1]\n",
      "   [2 4 3]\n",
      "   [1 3 2]]\n",
      "\n",
      "  [[4 1 4]\n",
      "   [4 3 2]\n",
      "   [3 2 4]]\n",
      "\n",
      "  [[1 4 2]\n",
      "   [3 2 3]\n",
      "   [2 4 4]]\n",
      "\n",
      "  [[4 2 0]\n",
      "   [2 3 1]\n",
      "   [4 4 0]]\n",
      "\n",
      "  [[2 0 0]\n",
      "   [3 1 3]\n",
      "   [4 0 4]]\n",
      "\n",
      "  [[0 0 0]\n",
      "   [1 3 0]\n",
      "   [0 4 4]]\n",
      "\n",
      "  [[0 0 0]\n",
      "   [3 0 4]\n",
      "   [4 4 2]]\n",
      "\n",
      "  [[0 0 3]\n",
      "   [0 4 4]\n",
      "   [4 2 1]]]\n",
      "\n",
      "\n",
      " [[[2 4 3]\n",
      "   [1 3 2]\n",
      "   [4 3 3]]\n",
      "\n",
      "  [[4 3 2]\n",
      "   [3 2 4]\n",
      "   [3 3 4]]\n",
      "\n",
      "  [[3 2 3]\n",
      "   [2 4 4]\n",
      "   [3 4 4]]\n",
      "\n",
      "  [[2 3 1]\n",
      "   [4 4 0]\n",
      "   [4 4 0]]\n",
      "\n",
      "  [[3 1 3]\n",
      "   [4 0 4]\n",
      "   [4 0 3]]\n",
      "\n",
      "  [[1 3 0]\n",
      "   [0 4 4]\n",
      "   [0 3 2]]\n",
      "\n",
      "  [[3 0 4]\n",
      "   [4 4 2]\n",
      "   [3 2 4]]\n",
      "\n",
      "  [[0 4 4]\n",
      "   [4 2 1]\n",
      "   [2 4 0]]]]\n"
     ]
    }
   ],
   "source": [
    "a=np.random.randint(0,5,(10,10))\n",
    "print(a)\n",
    "n=3\n",
    "# i=1+(a.shape[0]-3)\n",
    "# j=1+(a.shape[1]-3)\n",
    "b=np.lib.stride_tricks.as_strided(a,shape=(8,8,3,3),strides=a.strides+a.strides)\n",
    "print(b)\n",
    "\n",
    "\n"
   ]
  },
  {
   "cell_type": "code",
   "execution_count": null,
   "metadata": {},
   "outputs": [],
   "source": []
  },
  {
   "cell_type": "code",
   "execution_count": null,
   "metadata": {},
   "outputs": [],
   "source": []
  }
 ],
 "metadata": {
  "kernelspec": {
   "display_name": "Python 3",
   "language": "python",
   "name": "python3"
  },
  "language_info": {
   "codemirror_mode": {
    "name": "ipython",
    "version": 3
   },
   "file_extension": ".py",
   "mimetype": "text/x-python",
   "name": "python",
   "nbconvert_exporter": "python",
   "pygments_lexer": "ipython3",
   "version": "3.6.5"
  }
 },
 "nbformat": 4,
 "nbformat_minor": 2
}
